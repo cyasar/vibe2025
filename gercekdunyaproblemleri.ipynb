{
 "cells": [
  {
   "cell_type": "markdown",
   "id": "2f2af64e-ecc1-452b-8837-bc5c5346f48f",
   "metadata": {},
   "source": [
    "## 1.2 Gerçek Dünya Problemleri ve Optimizasyon\n",
    "\n",
    "Gerçek dünya problemleri, sınırlı kaynaklarla en iyi sonucu elde etmeyi hedefleyen ve çoğu zaman çok sayıda olasılığı içeren karmaşık karar problemleridir. Bu problemler birçok sektörde karşımıza çıkar:\n",
    "\n",
    "- **Lojistik:** Ürünlerin en kısa sürede, en düşük maliyetle dağıtılması\n",
    "- **Üretim:** İşçi, makine ve vardiya planlaması\n",
    "- **Sağlık:** Donör-hasta eşleşmeleri ve kaynak tahsisi\n",
    "- **Finans:** Risk ve getiri dengesi ile yatırım portföyü optimizasyonu\n",
    "\n",
    "Bu problemler genellikle **bir amaç fonksiyonunun** eniyilenmesi (maksimizasyon/minimizasyon) şeklinde ifade edilir. Örnek:\n",
    "\n",
    "> Belirli kısıtlar altında maliyeti minimize eden dağıtım planı oluştur.\n",
    "\n",
    "### Optimizasyonun Zorlukları\n",
    "\n",
    "- **Kombinatoriyel karmaşıklık:** Seçeneklerin sayısı üstel olarak artar.\n",
    "- **Kısıtların çokluğu:** Gerçek dünya senaryolarında çok sayıda kısıt göz önünde bulundurulmalıdır.\n",
    "- **Veri belirsizliği:** Bazı girdiler zamanla değişebilir veya net değildir.\n",
    "\n",
    "### Neden Ocean SDK?\n",
    "\n",
    "D-Wave’in Ocean SDK’sı, bu problemleri **QUBO** (Quadratic Unconstrained Binary Optimization) formatına dönüştürerek kuantum bilgisayarlarda veya klasik çözücülerde çözmeye olanak tanır. Bu, büyük ölçekli optimizasyon problemlerinde **verimli çözümler üretmeyi** mümkün kılar.\n"
   ]
  },
  {
   "cell_type": "code",
   "execution_count": null,
   "id": "a1fd492c-94f9-4c95-9ae9-c49b59a8139b",
   "metadata": {},
   "outputs": [],
   "source": []
  }
 ],
 "metadata": {
  "kernelspec": {
   "display_name": "Python 3 (ipykernel)",
   "language": "python",
   "name": "python3"
  },
  "language_info": {
   "codemirror_mode": {
    "name": "ipython",
    "version": 3
   },
   "file_extension": ".py",
   "mimetype": "text/x-python",
   "name": "python",
   "nbconvert_exporter": "python",
   "pygments_lexer": "ipython3",
   "version": "3.12.2"
  }
 },
 "nbformat": 4,
 "nbformat_minor": 5
}
