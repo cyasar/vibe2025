{
 "cells": [
  {
   "cell_type": "markdown",
   "id": "9b54cc1b-f899-4451-a011-6e61f72aa354",
   "metadata": {},
   "source": [
    "# 🎯 Sunumun Amacı\n",
    "\n",
    "Bu sunumun temel amacı, **D-Wave’in Ocean SDK** kütüphanesini kullanarak gerçek dünya problemleri üzerinde **kombinatoriyel optimizasyon** tekniklerini uygulamalı olarak tanıtmaktır.\n",
    "\n",
    "Sunum boyunca şu sorulara yanıt arayacağız:\n",
    "\n",
    "- Kombinatoriyel optimizasyon nedir ve neden zordur?\n",
    "- Bu problemler klasik yöntemlerle çözülemeyecek kadar büyüdüğünde **kuantum optimizasyon** neden alternatif bir çözüm sunar?\n",
    "- Ocean SDK nasıl çalışır ve gerçek dünya problemleri için nasıl uygulanabilir?\n",
    "- Lojistikten üretime, sağlık sektöründen zaman planlamaya kadar birçok senaryo nasıl optimize edilir?\n",
    "\n",
    "---\n",
    "\n",
    "Bu kapsamda sunumda:\n",
    "\n",
    "✔ Matematiksel temelleri açıklanacak,  \n",
    "✔ Ocean SDK ile **QUBO modelleri** kurulacak,  \n",
    "✔ Python ile canlı simülasyonlar çalıştırılacak,  \n",
    "✔ Haritalar ve grafiklerle çözümler **görselleştirilecektir**.\n",
    "\n",
    "---\n",
    "\n",
    "📌 Hedef kitle:  \n",
    "VİBE Etkinliğine katılan öğrencilerdir. \n"
   ]
  },
  {
   "cell_type": "markdown",
   "id": "5acbd41a-05dd-4af0-9f1d-5eeadc769652",
   "metadata": {},
   "source": [
    "<a href=\"gercekdunyaproblemleri.ipynb\">1.2 Gerçek Dünya Problemleri ve Optimizasyon</a>"
   ]
  },
  {
   "cell_type": "code",
   "execution_count": null,
   "id": "55e89a6b-aca9-4042-86c6-25a27f060dba",
   "metadata": {},
   "outputs": [],
   "source": []
  }
 ],
 "metadata": {
  "kernelspec": {
   "display_name": "Python 3 (ipykernel)",
   "language": "python",
   "name": "python3"
  },
  "language_info": {
   "codemirror_mode": {
    "name": "ipython",
    "version": 3
   },
   "file_extension": ".py",
   "mimetype": "text/x-python",
   "name": "python",
   "nbconvert_exporter": "python",
   "pygments_lexer": "ipython3",
   "version": "3.12.2"
  }
 },
 "nbformat": 4,
 "nbformat_minor": 5
}
