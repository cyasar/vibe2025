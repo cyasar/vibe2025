{
 "cells": [
  {
   "cell_type": "markdown",
   "id": "196e0d16-9a95-4dd9-99d4-fee77c678b0c",
   "metadata": {},
   "source": [
    "## 📚 5.2 Kaynakça\n",
    "\n",
    "| 📄 Kaynak | 📘 Açıklama |\n",
    "|----------|------------|\n",
    "| **Salehi, Ö., Glos, A., & Miszczak, J. A. (2022).**<br>_Unconstrained binary models of the travelling salesman problem variants for quantum optimization_.<br>**Quantum Information Processing, Springer.**<br>[🔗 SpringerLink](https://link.springer.com/article/10.1007/s11128-022-03446-3) | Kombinatoriyel optimizasyon problemlerine yönelik kuantum tabanlı QUBO modellerini tartışır. Özellikle Gezgin Satıcı Problemi üzerine geliştirilmiş kuantum çözümleri içerir. |\n",
    "| **Botelho, L., Glos, A., Kundu, A., Miszczak, J. A., Salehi, Ö., & Zimborás, Z. (2022).**<br>_Error mitigation for variational quantum algorithms through mid-circuit measurements_.<br>**Physical Review A.**<br>[🔗 APS](https://journals.aps.org/pra/abstract/10.1103/PhysRevA.105.022441) | Kuantum algoritmalarında ara ölçüm temelli hata azaltma yöntemlerini ele alır. VQE ve annealing gibi algoritmalarda doğruluğu artırma yöntemlerini açıklar. |\n",
    "| **Salehi, Ö., Seskir, Z., & Tepe, İ. (2022).**<br>_A Computer Science-Oriented Approach to Introduce Quantum Computing to a New Audience_.<br>**IEEE Transactions on Education.**<br>[🔗 IEEE Xplore](https://ieeexplore.ieee.org/document/9439191) | Kuantum hesaplamayı bilgisayar bilimi perspektifinden öğretmeyi amaçlayan eğitim odaklı bir çalışmadır. Kuantum programlama ve Python uygulamaları içerir. |\n",
    "| **QCobalt Atölyesi – QTurkey (2025)**<br>_Kuantum Programlama ile Optimizasyon Eğitimi (QUBO ve Tavlama)_.<br>[🔗 qturkey.org/qcobalt25-1](https://qturkey.org/qcobalt25-1) | QTurkey ve QWorld tarafından düzenlenen ileri düzey kuantum optimizasyon eğitimi. Ocean SDK kullanımı ve QUBO modelleme üzerine uygulamalı örnekler içerir. |\n",
    "| **Köse, B., & Demirtürk, B. (Ed.). (2023).**<br>_TEKNOBİLİM 2023: Optimizasyon Modelleme ve Yapay Zeka Algoritmaları_,<br>**Efe Akademi Yayınları.** | Bu kitap, yapay zekâ temelli optimizasyon algoritmalarını ve modelleme yaklaşımlarını disiplinlerarası biçimde ele almaktadır. QUBO, yapay sinir ağları ve klasik algoritmalarla kombinatorik problemler incelenmiştir. |\n"
   ]
  },
  {
   "cell_type": "markdown",
   "id": "b95275bb-d7a8-4ef4-9785-7bee05522b87",
   "metadata": {},
   "source": [
    "## 🔗 **QCobalt Atölyesi Bağlantıları**\n",
    "\n",
    "### [🌐 QCobalt 25-1 – QTurkey Etkinlik Sayfası](https://qturkey.org/qcobalt25-1/)\n",
    "\n",
    "### [🌐 QCobalt Genel Bilgi – QWorld Ana Sayfa](https://qworld.net/qcobalt/)\n"
   ]
  },
  {
   "cell_type": "code",
   "execution_count": null,
   "id": "3affe30b-7e8d-4040-b14f-5c6fc9cce786",
   "metadata": {},
   "outputs": [],
   "source": []
  }
 ],
 "metadata": {
  "kernelspec": {
   "display_name": "Python 3 (ipykernel)",
   "language": "python",
   "name": "python3"
  },
  "language_info": {
   "codemirror_mode": {
    "name": "ipython",
    "version": 3
   },
   "file_extension": ".py",
   "mimetype": "text/x-python",
   "name": "python",
   "nbconvert_exporter": "python",
   "pygments_lexer": "ipython3",
   "version": "3.12.2"
  }
 },
 "nbformat": 4,
 "nbformat_minor": 5
}
