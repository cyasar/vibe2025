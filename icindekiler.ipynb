{
 "cells": [
  {
   "cell_type": "markdown",
   "id": "6a7512d7-21a9-45cc-b0fe-6b0f87dc3ae5",
   "metadata": {},
   "source": [
    "<h1 style=\"font-size:36px;\">📚 İçindekiler (Table of Contents)</h1>\n",
    "\n",
    "<hr>\n",
    "\n",
    "<h2>1. Giriş</h2>\n",
    "<ul>\n",
    "  <li><a href=\"SunumunAmaci.ipynb\">1.1 Sunumun Amacı</a></li>\n",
    "  <li><a href=\"gercekdunyaproblemleri.ipynb\">1.2 Gerçek Dünya Problemleri ve Optimizasyon</a></li>\n",
    "</ul>\n",
    "\n",
    "<h2><a href=\"teoriktemeller.ipynb\">2. Teorik Temeller </a></h2>\n",
    "<ul>\n",
    "  <li><a href=\"#kombinatoriyel-optimizasyon-nedir\">2.1 Kombinatoriyel Optimizasyon Nedir?</a></li>\n",
    "  <li><a href=\"#matematiksel-temeller\">2.2 Matematiksel Temeller</a></li>\n",
    "  <li><a href=\"#qubo-formülasyonu\">2.3 QUBO Formülasyonu</a></li>\n",
    "  <li><a href=\"#d-waves-ocean-sdk-nedir\">2.4 D-Wave's Ocean SDK Nedir?</a></li>\n",
    "</ul>\n",
    "\n",
    "<h2>3. Uygulamalı Gerçek Dünya Problemleri</h2>\n",
    "<ul>\n",
    "  <li><a href=\"3_1_Dardanel_Lojistik_Depo_Optimizasyonu.ipynb\">3.1 Dardanel Lojistik Depo Optimizasyonu (81 İl)</a></li>\n",
    "  <ul>\n",
    "    <li><a href=\"#il-depo-ataması-ve-harita-görselleştirmesi\">3.1.1 İl-Depo Ataması ve Harita Görselleştirmesi</a></li>\n",
    "  </ul>\n",
    "  <li><a href=\"isci_makine_eslestirmesi.ipynb\">3.2 Üretim Hattında İşçi-Makine Eşleştirmesi</a></li>\n",
    "  <ul>\n",
    "    <li><a href=\"#skill-matrix-ve-networkx-görselleştirme\">3.2.1 Skill Matrix ve NetworkX Görselleştirme</a></li>\n",
    "  </ul>\n",
    "  <li><a href=\"#dinamik-vardiya-planlama-3-vardiya---100-i̇şçi---10-istasyon\">3.3 Dinamik Vardiya Planlama</a></li>\n",
    "  <ul>\n",
    "    <li><a href=\"#toplam-verimlilik-hesabı\">3.3.1 Toplam Verimlilik Hesabı</a></li>\n",
    "    <li><a href=\"#haftalık-simülasyon-ve-doluluk-analizi\">3.3.2 Haftalık Simülasyon ve Doluluk Analizi</a></li>\n",
    "  </ul>\n",
    "  <li><a href=\"hasta_donor_eslesmesi.ipynb\">3.4 Donör-Hasta Eşleşme Problemi</a></li>\n",
    "  <ul>\n",
    "    <li><a href=\"#kan-grubu--hla--bekleme-süresi-kriterleri\">3.4.1 Kan Grubu + HLA + Bekleme Süresi Kriterleri</a></li>\n",
    "    <li><a href=\"#eşleşme-skorları-ve-ağ-görselleştirmesi\">3.4.2 Eşleşme Skorları ve Ağ Görselleştirmesi</a></li>\n",
    "  </ul>\n",
    "</ul>\n",
    "\n",
    "<h2> <a href=\"4_Değerlendirme_Gelecek_Calismalar.ipynb\">4. Değerlendirme ve Gelecek Çalışmalar</a></h2>\n",
    "<ul>\n",
    "  <li><a href=\"#sonuçların-yorumlanması\">4.1 Sonuçların Yorumlanması</a></li>\n",
    "  <li><a href=\"#akademik-ve-endüstriyel-uygulama-alanları\">4.2 Akademik ve Endüstriyel Uygulama Alanları</a></li>\n",
    "  <li><a href=\"#geliştirilebilecek-yeni-senaryolar\">4.3 Geliştirilebilecek Yeni Senaryolar</a></li>\n",
    "</ul>\n",
    "\n",
    "<h2>5. Ekler</h2>\n",
    "<ul>\n",
    "  <li><a href=\"kullanilan_kutuphaneler.ipynb\">5.1 Kullanılan Kütüphaneler ve Bağlantılar</a></li>\n",
    "  <li><a href=\"kaynakca.ipynb\">5.2 Kaynakça</a></li>\n",
    "</ul>\n"
   ]
  },
  {
   "cell_type": "code",
   "execution_count": null,
   "id": "f6bad1a6-4eba-457c-8258-2581a8f421c2",
   "metadata": {},
   "outputs": [],
   "source": []
  },
  {
   "cell_type": "code",
   "execution_count": null,
   "id": "b06f7aa5-784b-4dbc-8888-38f451e6076b",
   "metadata": {},
   "outputs": [],
   "source": []
  }
 ],
 "metadata": {
  "kernelspec": {
   "display_name": "Python 3 (ipykernel)",
   "language": "python",
   "name": "python3"
  },
  "language_info": {
   "codemirror_mode": {
    "name": "ipython",
    "version": 3
   },
   "file_extension": ".py",
   "mimetype": "text/x-python",
   "name": "python",
   "nbconvert_exporter": "python",
   "pygments_lexer": "ipython3",
   "version": "3.12.2"
  }
 },
 "nbformat": 4,
 "nbformat_minor": 5
}
