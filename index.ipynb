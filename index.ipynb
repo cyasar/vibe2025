{
 "cells": [
  {
   "cell_type": "markdown",
   "id": "274e22d0-e453-4113-935f-8c16d3a358f7",
   "metadata": {},
   "source": [
    "<p align=\"center\">\n",
    "  <img src=\"vibe.jpeg\" alt=\"Sunum Afişi\" width=\"600\"/>\n",
    "</p>\n",
    "\n",
    "<h1 align=\"center\">\n",
    "  <strong>D-Wave's Ocean SDK ile Kombinatoriyel Optimizasyon</strong>\n",
    "</h1>\n",
    "\n",
    "<h2 align=\"center\">\n",
    "  <strong>Matematiksel Temeller ve Gerçek Dünya Uygulamaları</strong>\n",
    "</h2>\n",
    "\n",
    "<br>\n",
    "\n",
    "<h3 align=\"center\">\n",
    "  <em>Hazırlayan: Dr. Cumali Yaşar</em>\n",
    "</h3>\n",
    "\n",
    "<br><br>\n",
    "\n",
    "<p align=\"center\">\n",
    "  <strong style=\"font-size:22px;\">\n",
    "    📍 Çanakkale Onsekiz Mart Üniversitesi &nbsp;&nbsp;&nbsp;🗓️ Mayıs 2025\n",
    "  </strong>\n",
    "</p>\n"
   ]
  },
  {
   "cell_type": "markdown",
   "id": "545e3667-8264-4dae-b416-6df4bcabe2c9",
   "metadata": {},
   "source": [
    "<a href=\"icindekiler.ipynb\">İçindekiler</a>"
   ]
  },
  {
   "cell_type": "code",
   "execution_count": null,
   "id": "da2e82e5-deb5-445d-9ef4-a82fcfc5e663",
   "metadata": {},
   "outputs": [],
   "source": []
  }
 ],
 "metadata": {
  "kernelspec": {
   "display_name": "Python 3 (ipykernel)",
   "language": "python",
   "name": "python3"
  },
  "language_info": {
   "codemirror_mode": {
    "name": "ipython",
    "version": 3
   },
   "file_extension": ".py",
   "mimetype": "text/x-python",
   "name": "python",
   "nbconvert_exporter": "python",
   "pygments_lexer": "ipython3",
   "version": "3.12.2"
  }
 },
 "nbformat": 4,
 "nbformat_minor": 5
}
