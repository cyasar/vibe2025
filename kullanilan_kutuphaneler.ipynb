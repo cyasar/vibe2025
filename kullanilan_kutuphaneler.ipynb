{
 "cells": [
  {
   "cell_type": "markdown",
   "id": "c3954ffb-9412-4e85-8010-e73d9a3d7d02",
   "metadata": {},
   "source": [
    "# 📦 Kullanılan Python Kütüphaneleri\n",
    "\n",
    "| Kütüphane        | Açıklama                                                                                 | Kullanım Amacı                                                                 |\n",
    "|------------------|------------------------------------------------------------------------------------------|--------------------------------------------------------------------------------|\n",
    "| `dimod`          | Ocean SDK'nin temel QUBO modelleme arayüzü.                                              | QUBO model oluşturma, binary değişken tanımı, enerji hesaplamaları.           |\n",
    "| `neal`           | Ocean SDK içinde yer alan klasik **Simulated Annealing** çözücüsü.                       | QUBO problemlerinin klasik bilgisayar üzerinde çözümü.                        |\n",
    "| `pandas`         | Veri analizi ve tablo işlemleri için kullanılır.                                         | Veri setlerini okuma, işleme ve analiz.                                       |\n",
    "| `numpy`          | Sayısal hesaplamalar için kullanılır.                                                    | Matris işlemleri, rastgele beceri puanı üretimi.                              |\n",
    "| `networkx`       | Grafik ve ağ görselleştirme kütüphanesi.                                                 | İşçi-makine, donor-hasta eşleştirme ve optimizasyon sonuçlarının gösterimi.   |\n",
    "| `matplotlib`     | Grafiksel çıktı üretimi için yaygın kullanılan kütüphane.                                | Verimlilik analizlerinin grafikleştirilmesi.                                  |\n",
    "| `folium`         | Harita tabanlı görselleştirme aracıdır (Leaflet.js tabanlı).                             | İl-depo atamalarının **Türkiye haritası** üzerinde gösterimi.                |\n",
    "| `random`         | Python’ın rastgele sayı üreten yerleşik modülü.                                          | Rastgele beceri matrisi, HLA skoru, bekleme süresi gibi verilerin üretilmesi. |\n",
    "| `itertools`      | Kombinasyon ve permütasyon işlemleri için Python modülü.                                 | QUBO modeli kurarken kısıtları ikili karşılaştırmalarla tanımlamak.           |\n",
    "| `os`             | Dosya sistemine erişim ve kontrol amaçlı kullanılır.                                     | Dosya yolları ve çıktı dosyası kontrolü (HTML harita gibi).                   |\n",
    "\n",
    "---\n",
    "\n",
    "💡 Not: Bu kütüphanelerin çoğu klasik Python ortamında çalışır. `dimod` ve `neal` ise özel olarak **Ocean SDK** içinde yer almaktadır ve `pip install dwave-ocean-sdk` komutu ile yüklenebilir.\n",
    "\n"
   ]
  },
  {
   "cell_type": "code",
   "execution_count": null,
   "id": "3c48e72b-9f7f-4b29-8d43-6fd7fd53fb7e",
   "metadata": {},
   "outputs": [],
   "source": []
  }
 ],
 "metadata": {
  "kernelspec": {
   "display_name": "Python 3 (ipykernel)",
   "language": "python",
   "name": "python3"
  },
  "language_info": {
   "codemirror_mode": {
    "name": "ipython",
    "version": 3
   },
   "file_extension": ".py",
   "mimetype": "text/x-python",
   "name": "python",
   "nbconvert_exporter": "python",
   "pygments_lexer": "ipython3",
   "version": "3.12.2"
  }
 },
 "nbformat": 4,
 "nbformat_minor": 5
}
