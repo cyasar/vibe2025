{
 "cells": [
  {
   "cell_type": "code",
   "execution_count": 1,
   "id": "8bc0534c-6003-431f-bd9f-112e3e8bfab9",
   "metadata": {},
   "outputs": [
    {
     "name": "stdout",
     "output_type": "stream",
     "text": [
      "✅ Harita oluşturuldu: depo_atama_haritasi.html\n"
     ]
    }
   ],
   "source": [
    "import pandas as pd\n",
    "import folium\n",
    "\n",
    "# Dosyaları oku\n",
    "coords_df = pd.read_csv(\"turkiye_il_koordinatlari.csv\")\n",
    "assignments_df = pd.read_csv(\"il_depo_atamalariv1.csv\")\n",
    "\n",
    "# Sabit 10 depo\n",
    "fixed_depots = [\n",
    "    \"ÇANAKKALE\", \"MERSİN\", \"KAYSERİ\", \"İSTANBUL\", \"SAMSUN\",\n",
    "    \"BİTLİS\", \"ANTALYA\", \"KOCAELİ (İZMİT)\", \"GAZİANTEP\", \"ERZURUM\"\n",
    "]\n",
    "\n",
    "# Haritayı oluştur\n",
    "m = folium.Map(location=[39.0, 35.5], zoom_start=6)\n",
    "\n",
    "# Her depo için kırmızı marker\n",
    "for depo in fixed_depots:\n",
    "    row = coords_df[coords_df[\"İL\"] == depo]\n",
    "    if not row.empty:\n",
    "        folium.CircleMarker(\n",
    "            location=[row[\"LAT\"].values[0], row[\"LON\"].values[0]],\n",
    "            radius=7,\n",
    "            color=\"red\",\n",
    "            fill=True,\n",
    "            fill_opacity=0.9,\n",
    "            popup=f\"Depo: {depo}\"\n",
    "        ).add_to(m)\n",
    "\n",
    "# Tüm iller için bağlantı çiz ve marker ekle\n",
    "for _, row in assignments_df.iterrows():\n",
    "    il = row[\"İL\"]\n",
    "    depo = row[\"DEPO\"]\n",
    "    \n",
    "    il_coord = coords_df[coords_df[\"İL\"] == il]\n",
    "    depo_coord = coords_df[coords_df[\"İL\"] == depo]\n",
    "    \n",
    "    if not il_coord.empty and not depo_coord.empty:\n",
    "        il_lat, il_lon = il_coord[\"LAT\"].values[0], il_coord[\"LON\"].values[0]\n",
    "        depo_lat, depo_lon = depo_coord[\"LAT\"].values[0], depo_coord[\"LON\"].values[0]\n",
    "        \n",
    "        # İl markerı\n",
    "        folium.CircleMarker(\n",
    "            location=[il_lat, il_lon],\n",
    "            radius=4,\n",
    "            color=\"blue\",\n",
    "            fill=True,\n",
    "            fill_opacity=0.6,\n",
    "            popup=il\n",
    "        ).add_to(m)\n",
    "        \n",
    "        # Bağlantı çizgisi\n",
    "        folium.PolyLine(\n",
    "            locations=[[il_lat, il_lon], [depo_lat, depo_lon]],\n",
    "            color=\"gray\", weight=1.5, opacity=0.5\n",
    "        ).add_to(m)\n",
    "\n",
    "# Haritayı HTML dosyası olarak kaydet\n",
    "m.save(\"depo_atama_haritasi.html\")\n",
    "print(\"✅ Harita oluşturuldu: depo_atama_haritasi.html\")\n"
   ]
  },
  {
   "cell_type": "code",
   "execution_count": null,
   "id": "ef8c1266-4a1e-4545-bb4c-b88bf4a36aa2",
   "metadata": {},
   "outputs": [],
   "source": []
  },
  {
   "cell_type": "code",
   "execution_count": null,
   "id": "914cae13-930e-4ecc-8e75-85dea1dfddfe",
   "metadata": {},
   "outputs": [],
   "source": []
  }
 ],
 "metadata": {
  "kernelspec": {
   "display_name": "Python 3 (ipykernel)",
   "language": "python",
   "name": "python3"
  },
  "language_info": {
   "codemirror_mode": {
    "name": "ipython",
    "version": 3
   },
   "file_extension": ".py",
   "mimetype": "text/x-python",
   "name": "python",
   "nbconvert_exporter": "python",
   "pygments_lexer": "ipython3",
   "version": "3.12.2"
  }
 },
 "nbformat": 4,
 "nbformat_minor": 5
}
